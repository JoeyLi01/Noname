{
 "cells": [
  {
   "cell_type": "code",
   "execution_count": 2,
   "metadata": {},
   "outputs": [],
   "source": [
    "import pandas as pd\n",
    "import matplotlib.pyplot as plt\n",
    "import seaborn as sns"
   ]
  },
  {
   "cell_type": "code",
   "execution_count": 3,
   "metadata": {},
   "outputs": [],
   "source": [
    "# %% Load data\n",
    "df_vacci= pd.read_csv('C:/Users/sophi/OneDrive/Desktop/228/project/covid_data/vaccination/us_state_vaccinations.csv')\n",
    "df_popu= pd.read_csv('C:/Users/sophi/OneDrive/Desktop/228/project/covid_data/us_county.csv')\n",
    "df_covid= pd.read_csv('C:/Users/sophi/OneDrive/Desktop/228/project/covid_data/covid_us_county.csv')"
   ]
  },
  {
   "cell_type": "code",
   "execution_count": 12,
   "metadata": {
    "scrolled": true
   },
   "outputs": [
    {
     "data": {
      "text/html": [
       "<div>\n",
       "<style scoped>\n",
       "    .dataframe tbody tr th:only-of-type {\n",
       "        vertical-align: middle;\n",
       "    }\n",
       "\n",
       "    .dataframe tbody tr th {\n",
       "        vertical-align: top;\n",
       "    }\n",
       "\n",
       "    .dataframe thead th {\n",
       "        text-align: right;\n",
       "    }\n",
       "</style>\n",
       "<table border=\"1\" class=\"dataframe\">\n",
       "  <thead>\n",
       "    <tr style=\"text-align: right;\">\n",
       "      <th></th>\n",
       "      <th>fips</th>\n",
       "      <th>county</th>\n",
       "      <th>state</th>\n",
       "      <th>lat</th>\n",
       "      <th>long</th>\n",
       "      <th>date</th>\n",
       "      <th>cases</th>\n",
       "      <th>state_code</th>\n",
       "      <th>deaths</th>\n",
       "    </tr>\n",
       "  </thead>\n",
       "  <tbody>\n",
       "    <tr>\n",
       "      <th>0</th>\n",
       "      <td>1001.0</td>\n",
       "      <td>Autauga</td>\n",
       "      <td>Alabama</td>\n",
       "      <td>32.539527</td>\n",
       "      <td>-86.644082</td>\n",
       "      <td>2020-01-22</td>\n",
       "      <td>0</td>\n",
       "      <td>AL</td>\n",
       "      <td>0</td>\n",
       "    </tr>\n",
       "    <tr>\n",
       "      <th>1</th>\n",
       "      <td>1001.0</td>\n",
       "      <td>Autauga</td>\n",
       "      <td>Alabama</td>\n",
       "      <td>32.539527</td>\n",
       "      <td>-86.644082</td>\n",
       "      <td>2020-01-23</td>\n",
       "      <td>0</td>\n",
       "      <td>AL</td>\n",
       "      <td>0</td>\n",
       "    </tr>\n",
       "    <tr>\n",
       "      <th>2</th>\n",
       "      <td>1001.0</td>\n",
       "      <td>Autauga</td>\n",
       "      <td>Alabama</td>\n",
       "      <td>32.539527</td>\n",
       "      <td>-86.644082</td>\n",
       "      <td>2020-01-24</td>\n",
       "      <td>0</td>\n",
       "      <td>AL</td>\n",
       "      <td>0</td>\n",
       "    </tr>\n",
       "    <tr>\n",
       "      <th>3</th>\n",
       "      <td>1001.0</td>\n",
       "      <td>Autauga</td>\n",
       "      <td>Alabama</td>\n",
       "      <td>32.539527</td>\n",
       "      <td>-86.644082</td>\n",
       "      <td>2020-01-25</td>\n",
       "      <td>0</td>\n",
       "      <td>AL</td>\n",
       "      <td>0</td>\n",
       "    </tr>\n",
       "    <tr>\n",
       "      <th>4</th>\n",
       "      <td>1001.0</td>\n",
       "      <td>Autauga</td>\n",
       "      <td>Alabama</td>\n",
       "      <td>32.539527</td>\n",
       "      <td>-86.644082</td>\n",
       "      <td>2020-01-26</td>\n",
       "      <td>0</td>\n",
       "      <td>AL</td>\n",
       "      <td>0</td>\n",
       "    </tr>\n",
       "  </tbody>\n",
       "</table>\n",
       "</div>"
      ],
      "text/plain": [
       "     fips   county    state        lat       long        date  cases  \\\n",
       "0  1001.0  Autauga  Alabama  32.539527 -86.644082  2020-01-22      0   \n",
       "1  1001.0  Autauga  Alabama  32.539527 -86.644082  2020-01-23      0   \n",
       "2  1001.0  Autauga  Alabama  32.539527 -86.644082  2020-01-24      0   \n",
       "3  1001.0  Autauga  Alabama  32.539527 -86.644082  2020-01-25      0   \n",
       "4  1001.0  Autauga  Alabama  32.539527 -86.644082  2020-01-26      0   \n",
       "\n",
       "  state_code  deaths  \n",
       "0         AL       0  \n",
       "1         AL       0  \n",
       "2         AL       0  \n",
       "3         AL       0  \n",
       "4         AL       0  "
      ]
     },
     "execution_count": 12,
     "metadata": {},
     "output_type": "execute_result"
    }
   ],
   "source": [
    "df_covid.head()"
   ]
  },
  {
   "cell_type": "code",
   "execution_count": 5,
   "metadata": {
    "scrolled": true
   },
   "outputs": [
    {
     "name": "stdout",
     "output_type": "stream",
     "text": [
      "people_fully_vaccinated_per_hundred    10.039644\n",
      "people_vaccinated_per_hundred           9.653504\n",
      "distributed_per_hundred                 9.596870\n",
      "total_vaccinations_per_hundred          9.529939\n",
      "daily_vaccinations_per_million          6.435669\n",
      "daily_vaccinations_raw                  6.281213\n",
      "people_fully_vaccinated                 5.405962\n",
      "people_vaccinated                       4.994079\n",
      "total_distributed                       4.937445\n",
      "share_doses_used                        4.937445\n",
      "total_vaccinations                      3.634866\n",
      "daily_vaccinations                      0.334655\n",
      "dtype: float64\n"
     ]
    }
   ],
   "source": [
    "# %% Check missing values in vacci file\n",
    "missing = df_vacci.isna().sum().apply(lambda x: x/df_vacci.shape[0] * 100)\n",
    "print(missing[missing > 0].sort_values(ascending = False))"
   ]
  },
  {
   "cell_type": "code",
   "execution_count": 6,
   "metadata": {},
   "outputs": [
    {
     "name": "stdout",
     "output_type": "stream",
     "text": [
      "state_code    2.453416\n",
      "dtype: float64\n"
     ]
    }
   ],
   "source": [
    "# %% Check missing values in population file\n",
    "missing = df_popu.isna().sum().apply(lambda x: x/df_popu.shape[0] * 100)\n",
    "print(missing[missing > 0].sort_values(ascending = False))"
   ]
  },
  {
   "cell_type": "code",
   "execution_count": 7,
   "metadata": {
    "scrolled": false
   },
   "outputs": [
    {
     "name": "stdout",
     "output_type": "stream",
     "text": [
      "state_code    2.663076\n",
      "fips          0.299222\n",
      "county        0.179533\n",
      "dtype: float64\n"
     ]
    }
   ],
   "source": [
    "# %% Check missing values in covid file\n",
    "missing = df_covid.isna().sum().apply(lambda x: x/df_covid.shape[0] * 100)\n",
    "print(missing[missing > 0].sort_values(ascending = False))"
   ]
  },
  {
   "cell_type": "code",
   "execution_count": 9,
   "metadata": {},
   "outputs": [
    {
     "data": {
      "text/html": [
       "<div>\n",
       "<style scoped>\n",
       "    .dataframe tbody tr th:only-of-type {\n",
       "        vertical-align: middle;\n",
       "    }\n",
       "\n",
       "    .dataframe tbody tr th {\n",
       "        vertical-align: top;\n",
       "    }\n",
       "\n",
       "    .dataframe thead th {\n",
       "        text-align: right;\n",
       "    }\n",
       "</style>\n",
       "<table border=\"1\" class=\"dataframe\">\n",
       "  <thead>\n",
       "    <tr style=\"text-align: right;\">\n",
       "      <th></th>\n",
       "      <th>date</th>\n",
       "      <th>location</th>\n",
       "      <th>total_vaccinations</th>\n",
       "    </tr>\n",
       "  </thead>\n",
       "  <tbody>\n",
       "    <tr>\n",
       "      <th>0</th>\n",
       "      <td>2021-01-12</td>\n",
       "      <td>Alabama</td>\n",
       "      <td>78134.0</td>\n",
       "    </tr>\n",
       "    <tr>\n",
       "      <th>1</th>\n",
       "      <td>2021-01-13</td>\n",
       "      <td>Alabama</td>\n",
       "      <td>84040.0</td>\n",
       "    </tr>\n",
       "    <tr>\n",
       "      <th>2</th>\n",
       "      <td>2021-01-14</td>\n",
       "      <td>Alabama</td>\n",
       "      <td>92300.0</td>\n",
       "    </tr>\n",
       "    <tr>\n",
       "      <th>3</th>\n",
       "      <td>2021-01-15</td>\n",
       "      <td>Alabama</td>\n",
       "      <td>100567.0</td>\n",
       "    </tr>\n",
       "    <tr>\n",
       "      <th>7</th>\n",
       "      <td>2021-01-19</td>\n",
       "      <td>Alabama</td>\n",
       "      <td>130795.0</td>\n",
       "    </tr>\n",
       "  </tbody>\n",
       "</table>\n",
       "</div>"
      ],
      "text/plain": [
       "         date location  total_vaccinations\n",
       "0  2021-01-12  Alabama             78134.0\n",
       "1  2021-01-13  Alabama             84040.0\n",
       "2  2021-01-14  Alabama             92300.0\n",
       "3  2021-01-15  Alabama            100567.0\n",
       "7  2021-01-19  Alabama            130795.0"
      ]
     },
     "execution_count": 9,
     "metadata": {},
     "output_type": "execute_result"
    }
   ],
   "source": [
    "##restructure df with selected features\n",
    "df_vacci_new = df_vacci.loc[:,[\"date\",\"location\",\"total_vaccinations\"]]\n",
    "df_vacci_new = df_vacci_new.dropna(axis=0)\n",
    "df_vacci_new.head()"
   ]
  },
  {
   "cell_type": "code",
   "execution_count": 11,
   "metadata": {},
   "outputs": [
    {
     "data": {
      "text/html": [
       "<div>\n",
       "<style scoped>\n",
       "    .dataframe tbody tr th:only-of-type {\n",
       "        vertical-align: middle;\n",
       "    }\n",
       "\n",
       "    .dataframe tbody tr th {\n",
       "        vertical-align: top;\n",
       "    }\n",
       "\n",
       "    .dataframe thead th {\n",
       "        text-align: right;\n",
       "    }\n",
       "</style>\n",
       "<table border=\"1\" class=\"dataframe\">\n",
       "  <thead>\n",
       "    <tr style=\"text-align: right;\">\n",
       "      <th></th>\n",
       "      <th>county</th>\n",
       "      <th>state</th>\n",
       "      <th>population</th>\n",
       "      <th>median_age</th>\n",
       "    </tr>\n",
       "  </thead>\n",
       "  <tbody>\n",
       "    <tr>\n",
       "      <th>0</th>\n",
       "      <td>Autauga County</td>\n",
       "      <td>Alabama</td>\n",
       "      <td>55200</td>\n",
       "      <td>37.8</td>\n",
       "    </tr>\n",
       "    <tr>\n",
       "      <th>1</th>\n",
       "      <td>Baldwin County</td>\n",
       "      <td>Alabama</td>\n",
       "      <td>208107</td>\n",
       "      <td>42.8</td>\n",
       "    </tr>\n",
       "    <tr>\n",
       "      <th>2</th>\n",
       "      <td>Barbour County</td>\n",
       "      <td>Alabama</td>\n",
       "      <td>25782</td>\n",
       "      <td>39.9</td>\n",
       "    </tr>\n",
       "    <tr>\n",
       "      <th>3</th>\n",
       "      <td>Bibb County</td>\n",
       "      <td>Alabama</td>\n",
       "      <td>22527</td>\n",
       "      <td>39.9</td>\n",
       "    </tr>\n",
       "    <tr>\n",
       "      <th>4</th>\n",
       "      <td>Blount County</td>\n",
       "      <td>Alabama</td>\n",
       "      <td>57645</td>\n",
       "      <td>40.8</td>\n",
       "    </tr>\n",
       "  </tbody>\n",
       "</table>\n",
       "</div>"
      ],
      "text/plain": [
       "           county    state  population  median_age\n",
       "0  Autauga County  Alabama       55200        37.8\n",
       "1  Baldwin County  Alabama      208107        42.8\n",
       "2  Barbour County  Alabama       25782        39.9\n",
       "3     Bibb County  Alabama       22527        39.9\n",
       "4   Blount County  Alabama       57645        40.8"
      ]
     },
     "execution_count": 11,
     "metadata": {},
     "output_type": "execute_result"
    }
   ],
   "source": [
    "df_popu_new = df_popu.loc[:,[\"county\",\"state\",\"population\",\"median_age\"]]\n",
    "df_popu_new = df_popu_new.dropna(axis=0)\n",
    "df_popu_new.head()"
   ]
  },
  {
   "cell_type": "code",
   "execution_count": 13,
   "metadata": {},
   "outputs": [
    {
     "data": {
      "text/html": [
       "<div>\n",
       "<style scoped>\n",
       "    .dataframe tbody tr th:only-of-type {\n",
       "        vertical-align: middle;\n",
       "    }\n",
       "\n",
       "    .dataframe tbody tr th {\n",
       "        vertical-align: top;\n",
       "    }\n",
       "\n",
       "    .dataframe thead th {\n",
       "        text-align: right;\n",
       "    }\n",
       "</style>\n",
       "<table border=\"1\" class=\"dataframe\">\n",
       "  <thead>\n",
       "    <tr style=\"text-align: right;\">\n",
       "      <th></th>\n",
       "      <th>date</th>\n",
       "      <th>county</th>\n",
       "      <th>state</th>\n",
       "      <th>deaths</th>\n",
       "      <th>cases</th>\n",
       "    </tr>\n",
       "  </thead>\n",
       "  <tbody>\n",
       "    <tr>\n",
       "      <th>0</th>\n",
       "      <td>2020-01-22</td>\n",
       "      <td>Autauga</td>\n",
       "      <td>Alabama</td>\n",
       "      <td>0</td>\n",
       "      <td>0</td>\n",
       "    </tr>\n",
       "    <tr>\n",
       "      <th>1</th>\n",
       "      <td>2020-01-23</td>\n",
       "      <td>Autauga</td>\n",
       "      <td>Alabama</td>\n",
       "      <td>0</td>\n",
       "      <td>0</td>\n",
       "    </tr>\n",
       "    <tr>\n",
       "      <th>2</th>\n",
       "      <td>2020-01-24</td>\n",
       "      <td>Autauga</td>\n",
       "      <td>Alabama</td>\n",
       "      <td>0</td>\n",
       "      <td>0</td>\n",
       "    </tr>\n",
       "    <tr>\n",
       "      <th>3</th>\n",
       "      <td>2020-01-25</td>\n",
       "      <td>Autauga</td>\n",
       "      <td>Alabama</td>\n",
       "      <td>0</td>\n",
       "      <td>0</td>\n",
       "    </tr>\n",
       "    <tr>\n",
       "      <th>4</th>\n",
       "      <td>2020-01-26</td>\n",
       "      <td>Autauga</td>\n",
       "      <td>Alabama</td>\n",
       "      <td>0</td>\n",
       "      <td>0</td>\n",
       "    </tr>\n",
       "  </tbody>\n",
       "</table>\n",
       "</div>"
      ],
      "text/plain": [
       "         date   county    state  deaths  cases\n",
       "0  2020-01-22  Autauga  Alabama       0      0\n",
       "1  2020-01-23  Autauga  Alabama       0      0\n",
       "2  2020-01-24  Autauga  Alabama       0      0\n",
       "3  2020-01-25  Autauga  Alabama       0      0\n",
       "4  2020-01-26  Autauga  Alabama       0      0"
      ]
     },
     "execution_count": 13,
     "metadata": {},
     "output_type": "execute_result"
    }
   ],
   "source": [
    "df_covid_new = df_covid.loc[:,[\"date\",\"county\",\"state\",\"deaths\",\"cases\"]]\n",
    "df_covid_new = df_covid_new.dropna(axis=0)\n",
    "df_covid_new.head()"
   ]
  },
  {
   "cell_type": "code",
   "execution_count": 14,
   "metadata": {},
   "outputs": [],
   "source": [
    "df_covid_new.to_csv('C:/Users/sophi/OneDrive/Desktop/228/project/covid_data/covidnew.csv',index=False)\n",
    "df_popu_new.to_csv('C:/Users/sophi/OneDrive/Desktop/228/project/covid_data/popunew.csv',index=False)\n",
    "df_vacci_new.to_csv('C:/Users/sophi/OneDrive/Desktop/228/project/covid_data/vaccinew.csv',index=False)"
   ]
  },
  {
   "cell_type": "code",
   "execution_count": null,
   "metadata": {},
   "outputs": [],
   "source": []
  },
  {
   "cell_type": "code",
   "execution_count": null,
   "metadata": {},
   "outputs": [],
   "source": []
  },
  {
   "cell_type": "code",
   "execution_count": null,
   "metadata": {},
   "outputs": [],
   "source": []
  },
  {
   "cell_type": "code",
   "execution_count": null,
   "metadata": {},
   "outputs": [],
   "source": []
  },
  {
   "cell_type": "code",
   "execution_count": 1,
   "metadata": {},
   "outputs": [
    {
     "name": "stdout",
     "output_type": "stream",
     "text": [
      "╒═══════╤════════════════════════╤═══════════════════════════════════════════════════════════════════════════════════════════════════════════════════════════════════════════════════════════╤════════════╕\n",
      "│   No. │ Attribute              │ Details                                                                                                                                                   │ Nullable   │\n",
      "╞═══════╪════════════════════════╪═══════════════════════════════════════════════════════════════════════════════════════════════════════════════════════════════════════════════════════════╪════════════╡\n",
      "│     1 │ Event.ID               │ Useless identifer of the record since it is a same number for all records                                                                                 │ NO         │\n",
      "├───────┼────────────────────────┼───────────────────────────────────────────────────────────────────────────────────────────────────────────────────────────────────────────────────────────┼────────────┤\n",
      "│     2 │ Accident.Number        │ Actual unique identifer of the record                                                                                                                     │ NO         │\n",
      "├───────┼────────────────────────┼───────────────────────────────────────────────────────────────────────────────────────────────────────────────────────────────────────────────────────────┼────────────┤\n",
      "│     3 │ Investigation.Type     │ Type of Investigation. Either be accident or incident                                                                                                     │ Yes        │\n",
      "├───────┼────────────────────────┼───────────────────────────────────────────────────────────────────────────────────────────────────────────────────────────────────────────────────────────┼────────────┤\n",
      "│     4 │ Event.Date             │ Date of events in local time zone                                                                                                                         │ No         │\n",
      "├───────┼────────────────────────┼───────────────────────────────────────────────────────────────────────────────────────────────────────────────────────────────────────────────────────────┼────────────┤\n",
      "│     5 │ Location               │ Location of event, present as city followed by state                                                                                                      │ Yes        │\n",
      "├───────┼────────────────────────┼───────────────────────────────────────────────────────────────────────────────────────────────────────────────────────────────────────────────────────────┼────────────┤\n",
      "│     6 │ Country                │ Country of events, Majority are USA                                                                                                                       │ Yes        │\n",
      "├───────┼────────────────────────┼───────────────────────────────────────────────────────────────────────────────────────────────────────────────────────────────────────────────────────────┼────────────┤\n",
      "│     7 │ Latitude               │ Latitude in gps location of event                                                                                                                         │ Yes        │\n",
      "├───────┼────────────────────────┼───────────────────────────────────────────────────────────────────────────────────────────────────────────────────────────────────────────────────────────┼────────────┤\n",
      "│     8 │ Longitude              │ Longitude in gps location of event                                                                                                                        │ Yes        │\n",
      "├───────┼────────────────────────┼───────────────────────────────────────────────────────────────────────────────────────────────────────────────────────────────────────────────────────────┼────────────┤\n",
      "│     9 │ Airport.code           │ Code name for airport                                                                                                                                     │ Yes        │\n",
      "├───────┼────────────────────────┼───────────────────────────────────────────────────────────────────────────────────────────────────────────────────────────────────────────────────────────┼────────────┤\n",
      "│    10 │ Airport.Name           │ Actual name for airport                                                                                                                                   │ Yes        │\n",
      "├───────┼────────────────────────┼───────────────────────────────────────────────────────────────────────────────────────────────────────────────────────────────────────────────────────────┼────────────┤\n",
      "│    11 │ Injury.Severity        │ Severity of events in 4 type:fatal, non-fatal, minor, siruose                                                                                             │ Yes        │\n",
      "├───────┼────────────────────────┼───────────────────────────────────────────────────────────────────────────────────────────────────────────────────────────────────────────────────────────┼────────────┤\n",
      "│    12 │ Aircraft.Damage        │ damage of aircraft in 3 types: substantial, destroyed, minor                                                                                              │ Yes        │\n",
      "├───────┼────────────────────────┼───────────────────────────────────────────────────────────────────────────────────────────────────────────────────────────────────────────────────────────┼────────────┤\n",
      "│    13 │ Aircraft.Category      │ Type of aircraft: Airplane, Helicopter, Glider, Ballon, Gyroplane, Weight-Shift, Powered Parachute, Ultralight, Blimp, Powered-Lift, Gyrocraft, Rocket    │ Yes        │\n",
      "├───────┼────────────────────────┼───────────────────────────────────────────────────────────────────────────────────────────────────────────────────────────────────────────────────────────┼────────────┤\n",
      "│    14 │ Registration.Number    │ Registration.Number of aircraft                                                                                                                           │ Yes        │\n",
      "├───────┼────────────────────────┼───────────────────────────────────────────────────────────────────────────────────────────────────────────────────────────────────────────────────────────┼────────────┤\n",
      "│    15 │ Make                   │ Manufacturers of aircraft                                                                                                                                 │ Yes        │\n",
      "├───────┼────────────────────────┼───────────────────────────────────────────────────────────────────────────────────────────────────────────────────────────────────────────────────────────┼────────────┤\n",
      "│    16 │ Model                  │ Model type of aircraft                                                                                                                                    │ Yes        │\n",
      "├───────┼────────────────────────┼───────────────────────────────────────────────────────────────────────────────────────────────────────────────────────────────────────────────────────────┼────────────┤\n",
      "│    17 │ Amateur.Built          │ Boolean type that indicate if  an aircraft was assembled by person(s) who undertook the construction project solely for their own education or recreation │ Yes        │\n",
      "├───────┼────────────────────────┼───────────────────────────────────────────────────────────────────────────────────────────────────────────────────────────────────────────────────────────┼────────────┤\n",
      "│    18 │ Number.of.Engines      │ Number of Engines in that aircraft                                                                                                                        │ Yes        │\n",
      "├───────┼────────────────────────┼───────────────────────────────────────────────────────────────────────────────────────────────────────────────────────────────────────────────────────────┼────────────┤\n",
      "│    19 │ Engine.Type            │ Type of Engine: Reciprocating, Turbo Shaft, REC, Turbo Fan, Turbo Jet, Turbo Pro, TP, TS, TF, TJ, Geared Turbofan, Electric, Hybrid Rocket                │ Yes        │\n",
      "├───────┼────────────────────────┼───────────────────────────────────────────────────────────────────────────────────────────────────────────────────────────────────────────────────────────┼────────────┤\n",
      "│    20 │ FAR.Description        │ Federal Aviation Regulation description posting by Federal Aviation Administration                                                                        │ Yes        │\n",
      "├───────┼────────────────────────┼───────────────────────────────────────────────────────────────────────────────────────────────────────────────────────────────────────────────────────────┼────────────┤\n",
      "│    21 │ Schedule               │ Unclear meaning in only two types: NSCH and SCHD                                                                                                          │ Yes        │\n",
      "├───────┼────────────────────────┼───────────────────────────────────────────────────────────────────────────────────────────────────────────────────────────────────────────────────────────┼────────────┤\n",
      "│    22 │ Purpose.of.flight      │ Purpose of flight for that event                                                                                                                          │ Yes        │\n",
      "├───────┼────────────────────────┼───────────────────────────────────────────────────────────────────────────────────────────────────────────────────────────────────────────────────────────┼────────────┤\n",
      "│    23 │ Air.carrier            │ Carrier of aircraft                                                                                                                                       │ Yes        │\n",
      "├───────┼────────────────────────┼───────────────────────────────────────────────────────────────────────────────────────────────────────────────────────────────────────────────────────────┼────────────┤\n",
      "│    24 │ Total.Fatal.Injuries   │ Total number of death in that event                                                                                                                       │ Yes        │\n",
      "├───────┼────────────────────────┼───────────────────────────────────────────────────────────────────────────────────────────────────────────────────────────────────────────────────────────┼────────────┤\n",
      "│    25 │ Total.Serious.Injuries │ Total number of serious injuries in that event                                                                                                            │ Yes        │\n",
      "├───────┼────────────────────────┼───────────────────────────────────────────────────────────────────────────────────────────────────────────────────────────────────────────────────────────┼────────────┤\n",
      "│    26 │ Total.Minor.Injuries   │ Total number of minor injuries in that event                                                                                                              │ Yes        │\n",
      "├───────┼────────────────────────┼───────────────────────────────────────────────────────────────────────────────────────────────────────────────────────────────────────────────────────────┼────────────┤\n",
      "│    27 │ Total.Uninjured        │ Total number of uninjuries in that event                                                                                                                  │ Yes        │\n",
      "├───────┼────────────────────────┼───────────────────────────────────────────────────────────────────────────────────────────────────────────────────────────────────────────────────────────┼────────────┤\n",
      "│    28 │ Weather.Condition      │ meteorological conditions in two type: VMC, IMC which generally mean good weather and bad weather                                                         │ Yes        │\n",
      "├───────┼────────────────────────┼───────────────────────────────────────────────────────────────────────────────────────────────────────────────────────────────────────────────────────────┼────────────┤\n",
      "│    29 │ Broad.phase.of.flight  │ phase of flight while event happens                                                                                                                       │ Yes        │\n",
      "├───────┼────────────────────────┼───────────────────────────────────────────────────────────────────────────────────────────────────────────────────────────────────────────────────────────┼────────────┤\n",
      "│    30 │ Report.Status          │ status of report                                                                                                                                          │ Yes        │\n",
      "├───────┼────────────────────────┼───────────────────────────────────────────────────────────────────────────────────────────────────────────────────────────────────────────────────────────┼────────────┤\n",
      "│    31 │ Publication.Date       │ date that report finished and published to public                                                                                                         │ Yes        │\n",
      "╘═══════╧════════════════════════╧═══════════════════════════════════════════════════════════════════════════════════════════════════════════════════════════════════════════════════════════╧════════════╛\n"
     ]
    }
   ],
   "source": [
    "from tabulate import tabulate\n",
    "table = [[\"No.\",\"Attribute\",\"Details\", \"Nullable\"],\n",
    "         [1,\"Event.ID\",\"Useless identifer of the record since it is a same number for all records\", \"NO\"],\n",
    "         [2,\"Accident.Number\",\"Actual unique identifer of the record\",\"NO\"],\n",
    "         [3,\"Investigation.Type\",\"Type of Investigation. Either be accident or incident\",\"Yes\"],\n",
    "         [4,\"Event.Date\", \"Date of events in local time zone\", \"No\"],\n",
    "         [5,\"Location\", \"Location of event, present as city followed by state\", \"Yes\"],\n",
    "         [6,\"Country\", \"Country of events, Majority are USA\", \"Yes\"],\n",
    "         [7,\"Latitude\", \"Latitude in gps location of event\", \"Yes\"],\n",
    "         [8,\"Longitude\", \"Longitude in gps location of event\", \"Yes\"],\n",
    "         [9,\"Airport.code\", \"Code name for airport\", \"Yes\"],\n",
    "         [10,\"Airport.Name\", \"Actual name for airport\", \"Yes\"],\n",
    "         [11,\"Injury.Severity\", \"Severity of events in 4 type:fatal, non-fatal, minor, siruose\", \"Yes\"],\n",
    "         [12,\"Aircraft.Damage\", \"damage of aircraft in 3 types: substantial, destroyed, minor\", \"Yes\"],\n",
    "         [13,\"Aircraft.Category\", \"Type of aircraft: Airplane, Helicopter, Glider, Ballon, Gyroplane, Weight-Shift, Powered Parachute, Ultralight, Blimp, Powered-Lift, Gyrocraft, Rocket\", \"Yes\"],\n",
    "         [14,\"Registration.Number\", \"Registration.Number of aircraft\", \"Yes\"],\n",
    "         [15,\"Make\", \"Manufacturers of aircraft\", \"Yes\"],\n",
    "         [16,\"Model\", \"Model type of aircraft\", \"Yes\"],\n",
    "         [17,\"Amateur.Built\", \"Boolean type that indicate if  an aircraft was assembled by person(s) who undertook the construction project solely for their own education or recreation\", \"Yes\"],\n",
    "         [18,\"Number.of.Engines\", \"Number of Engines in that aircraft\", \"Yes\"],\n",
    "         [19,\"Engine.Type\", \"Type of Engine: Reciprocating, Turbo Shaft, REC, Turbo Fan, Turbo Jet, Turbo Pro, TP, TS, TF, TJ, Geared Turbofan, Electric, Hybrid Rocket\", \"Yes\"],\n",
    "         [20,\"FAR.Description\", \"Federal Aviation Regulation description posting by Federal Aviation Administration\", \"Yes\"],\n",
    "         [21,\"Schedule\", \"Unclear meaning in only two types: NSCH and SCHD\", \"Yes\"],\n",
    "         [22,\"Purpose.of.flight\", \"Purpose of flight for that event\", \"Yes\"],\n",
    "         [23,\"Air.carrier\", \"Carrier of aircraft\", \"Yes\"],\n",
    "         [24,\"Total.Fatal.Injuries\", \"Total number of death in that event\", \"Yes\"],\n",
    "         [25,\"Total.Serious.Injuries\", \"Total number of serious injuries in that event\", \"Yes\"],\n",
    "         [26,\"Total.Minor.Injuries\", \"Total number of minor injuries in that event\", \"Yes\"],\n",
    "         [27,\"Total.Uninjured\", \"Total number of uninjuries in that event\", \"Yes\"],\n",
    "         [28,\"Weather.Condition\", \"meteorological conditions in two type: VMC, IMC which generally mean good weather and bad weather\", \"Yes\"],\n",
    "         [29,\"Broad.phase.of.flight\", \"phase of flight while event happens\", \"Yes\"],\n",
    "         [30,\"Report.Status\", \"status of report\", \"Yes\"],\n",
    "         [31,\"Publication.Date\", \"date that report finished and published to public\", \"Yes\"],\n",
    "        ]\n",
    "print(tabulate(table,headers= \"firstrow\", tablefmt=\"fancy_grid\"))"
   ]
  },
  {
   "cell_type": "code",
   "execution_count": null,
   "metadata": {},
   "outputs": [],
   "source": []
  },
  {
   "cell_type": "code",
   "execution_count": null,
   "metadata": {},
   "outputs": [],
   "source": []
  }
 ],
 "metadata": {
  "kernelspec": {
   "display_name": "Python 3",
   "language": "python",
   "name": "python3"
  },
  "language_info": {
   "codemirror_mode": {
    "name": "ipython",
    "version": 3
   },
   "file_extension": ".py",
   "mimetype": "text/x-python",
   "name": "python",
   "nbconvert_exporter": "python",
   "pygments_lexer": "ipython3",
   "version": "3.8.8"
  }
 },
 "nbformat": 4,
 "nbformat_minor": 4
}
